{
 "cells": [
  {
   "cell_type": "code",
   "execution_count": 7,
   "id": "deb3bc90-551b-4e06-bce8-fa7ec3b4bdbe",
   "metadata": {},
   "outputs": [
    {
     "name": "stdout",
     "output_type": "stream",
     "text": [
      "Prediction for input [6]: 12.0\n"
     ]
    }
   ],
   "source": [
    "from sklearn.linear_model import LinearRegression \n",
    "import numpy as np \n",
    "x = np.array([[1], [2], [3], [4], [5]]) \n",
    "y = np.array([2, 4, 6, 8, 10]) \n",
    "model = LinearRegression() \n",
    "model.fit(x, y) \n",
    "test_data = np.array([[6]]) \n",
    "prediction = model.predict(test_data) \n",
    "print(\"Prediction for input {}: {}\".format(test_data.flatten(), \n",
    "prediction[0]))"
   ]
  },
  {
   "cell_type": "code",
   "execution_count": 8,
   "id": "5261ac36-fb87-4e74-8293-3383532ef927",
   "metadata": {},
   "outputs": [
    {
     "name": "stdout",
     "output_type": "stream",
     "text": [
      "Coefficients: [1.5]\n",
      "Intercept: 0.7000000000000002\n",
      "Predictions: [ 9.7 11.2 12.7]\n"
     ]
    }
   ],
   "source": [
    "import numpy as np \n",
    "from sklearn.linear_model import LinearRegression \n",
    "X = np.array([[1], [2], [3], [4], [5]]) \n",
    "y = np.array([2, 4, 5, 7, 8]) \n",
    "model = LinearRegression() \n",
    "model.fit(X, y) \n",
    "X_test = np.array([[6], [7], [8]]) \n",
    "y_pred = model.predict(X_test) \n",
    "print(\"Coefficients:\", model.coef_) \n",
    "print(\"Intercept:\", model.intercept_) \n",
    "print(\"Predictions:\", y_pred)"
   ]
  },
  {
   "cell_type": "code",
   "execution_count": 9,
   "id": "cb05aa36-4c41-4b18-a78c-4a3a6249fc8b",
   "metadata": {},
   "outputs": [
    {
     "name": "stdout",
     "output_type": "stream",
     "text": [
      "Predictions for inputs [2.5 3.5]: [0 0]\n"
     ]
    }
   ],
   "source": [
    "from sklearn.linear_model import LogisticRegression \n",
    "import numpy as np \n",
    "x = np.array([[1], [2], [3], [4], [5]]) \n",
    "y = np.array([0, 0, 0, 1, 1]) \n",
    "model = LogisticRegression() \n",
    "model.fit(x, y) \n",
    "test_data = np.array([[2.5], [3.5]]) \n",
    "predictions = model.predict(test_data) \n",
    "print(\"Predictions for inputs {}: {}\".format(test_data.flatten(), \n",
    "predictions))"
   ]
  },
  {
   "cell_type": "code",
   "execution_count": null,
   "id": "f12c9399-7059-45f3-8a38-4f44924c1d17",
   "metadata": {},
   "outputs": [],
   "source": []
  }
 ],
 "metadata": {
  "kernelspec": {
   "display_name": "Python 3 (ipykernel)",
   "language": "python",
   "name": "python3"
  },
  "language_info": {
   "codemirror_mode": {
    "name": "ipython",
    "version": 3
   },
   "file_extension": ".py",
   "mimetype": "text/x-python",
   "name": "python",
   "nbconvert_exporter": "python",
   "pygments_lexer": "ipython3",
   "version": "3.9.16"
  }
 },
 "nbformat": 4,
 "nbformat_minor": 5
}
